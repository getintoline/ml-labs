{
  "nbformat": 4,
  "nbformat_minor": 0,
  "metadata": {
    "colab": {
      "provenance": []
    },
    "kernelspec": {
      "name": "python3",
      "display_name": "Python 3"
    },
    "language_info": {
      "name": "python"
    }
  },
  "cells": [
    {
      "cell_type": "code",
      "execution_count": null,
      "metadata": {
        "id": "btVoSWqhDTDS"
      },
      "outputs": [],
      "source": []
    },
    {
      "cell_type": "code",
      "source": [
        "import kagglehub\n",
        "path = kagglehub.dataset_download(\"NUFORC/ufo-sightings\")\n",
        "\n",
        "# импорт датасета\n",
        "print(\"Path to dataset files:\", path)"
      ],
      "metadata": {
        "colab": {
          "base_uri": "https://localhost:8080/"
        },
        "id": "i_PXDU3IEpgo",
        "outputId": "3fd43bdf-fbb7-4a00-b83a-69e61cab91a7"
      },
      "execution_count": null,
      "outputs": [
        {
          "output_type": "stream",
          "name": "stdout",
          "text": [
            "Downloading from https://www.kaggle.com/api/v1/datasets/download/NUFORC/ufo-sightings?dataset_version_number=2...\n"
          ]
        },
        {
          "output_type": "stream",
          "name": "stderr",
          "text": [
            "100%|██████████| 10.2M/10.2M [00:00<00:00, 128MB/s]"
          ]
        },
        {
          "output_type": "stream",
          "name": "stdout",
          "text": [
            "Extracting files...\n"
          ]
        },
        {
          "output_type": "stream",
          "name": "stderr",
          "text": [
            "\n"
          ]
        },
        {
          "output_type": "stream",
          "name": "stdout",
          "text": [
            "Path to dataset files: /root/.cache/kagglehub/datasets/NUFORC/ufo-sightings/versions/2\n"
          ]
        }
      ]
    },
    {
      "cell_type": "code",
      "source": [
        "import os\n",
        "\n",
        "# предварительный просмотр\n",
        "os.listdir(\"/root/.cache/kagglehub/datasets/NUFORC/ufo-sightings/versions/2\")\n"
      ],
      "metadata": {
        "colab": {
          "base_uri": "https://localhost:8080/"
        },
        "id": "6LGjGIoTFx-m",
        "outputId": "9742f117-6ee2-4123-d994-d6f57b555fe5"
      },
      "execution_count": null,
      "outputs": [
        {
          "output_type": "execute_result",
          "data": {
            "text/plain": [
              "['scrubbed.csv', 'complete.csv']"
            ]
          },
          "metadata": {},
          "execution_count": 2
        }
      ]
    },
    {
      "cell_type": "code",
      "source": [
        "import pandas as pd\n",
        "import numpy as np\n",
        "from sklearn import preprocessing\n",
        "\n",
        "# загрузим UFO dataset (scrubbed) с low_memory=False\n",
        "# чтобы не получать dtype предупреждения\n",
        "df = pd.read_csv(\"/root/.cache/kagglehub/datasets/NUFORC/ufo-sightings/versions/2/scrubbed.csv\", low_memory=False)\n",
        "\n",
        "# преобразуем колонку в str для очистки\n",
        "duration_str = df['duration (seconds)'].astype(str)\n",
        "\n",
        "# очистим колонку duration\n",
        "# удалим все non-digit, non-dot символы\n",
        "duration_cleaned = duration_str.str.replace(r'[^\\d.]', '', regex=True)\n",
        "\n",
        "# преобразуем str в float\n",
        "# отбрасывая NaN\n",
        "duration_float = pd.to_numeric(duration_cleaned, errors='coerce')\n",
        "\n",
        "# dropнем NaNы\n",
        "duration_final = duration_float.dropna()\n",
        "\n",
        "# преобразуем в NumPy array\n",
        "array = np.array(duration_final)\n",
        "\n",
        "# нормализуем массив\n",
        "# обернем в лист для 2D input\n",
        "normal_arr = preprocessing.normalize([array])\n",
        "\n",
        "# выведем нормализованный массив\n",
        "print(normal_arr)"
      ],
      "metadata": {
        "colab": {
          "base_uri": "https://localhost:8080/"
        },
        "id": "i69w70bbQv7p",
        "outputId": "bac32517-a819-4ff5-8c69-f397c449ce03"
      },
      "execution_count": null,
      "outputs": [
        {
          "output_type": "stream",
          "name": "stdout",
          "text": [
            "[[1.53579329e-05 4.09544878e-05 1.13762466e-07 ... 6.82574796e-06\n",
            "  2.84406165e-08 5.80188577e-06]]\n"
          ]
        }
      ]
    },
    {
      "cell_type": "code",
      "source": [
        "print(df.columns)\n",
        "\n"
      ],
      "metadata": {
        "colab": {
          "base_uri": "https://localhost:8080/"
        },
        "id": "vZlkahHQraHr",
        "outputId": "c7eb8a5b-34d5-445f-d9dc-a5eb289aae33"
      },
      "execution_count": null,
      "outputs": [
        {
          "output_type": "stream",
          "name": "stdout",
          "text": [
            "Index(['datetime', 'city', 'state', 'country', 'shape', 'duration (seconds)',\n",
            "       'duration (hours/min)', 'comments', 'date posted', 'latitude',\n",
            "       'longitude '],\n",
            "      dtype='object')\n"
          ]
        }
      ]
    },
    {
      "cell_type": "code",
      "source": [
        "import pandas as pd\n",
        "import numpy as np\n",
        "from sklearn import preprocessing\n",
        "\n",
        "# загружаем датасет\n",
        "df = pd.read_csv(\"/root/.cache/kagglehub/datasets/NUFORC/ufo-sightings/versions/2/scrubbed.csv\", low_memory=False)\n",
        "\n",
        "# удаляем пробелы из названий столбцов\n",
        "df.columns = df.columns.str.strip()\n",
        "\n",
        "# выбираем числовые колонки\n",
        "df_numeric = df[['latitude', 'longitude']].copy()\n",
        "\n",
        "# преобразуем в числовые,\n",
        "# форся неправильные записи в NaN\n",
        "df_numeric['latitude'] = pd.to_numeric(df_numeric['latitude'], errors='coerce')\n",
        "df_numeric['longitude'] = pd.to_numeric(df_numeric['longitude'], errors='coerce')\n",
        "\n",
        "# удаляем строки с NaN\n",
        "df_numeric = df_numeric.dropna()\n",
        "\n",
        "# нормализуем по столбцам (axis=0)\n",
        "normal_by_column = preprocessing.normalize(df_numeric, axis=0)\n",
        "\n",
        "# нормализуем по строкам (axis=1)\n",
        "normal_by_row = preprocessing.normalize(df_numeric, axis=1)\n",
        "\n",
        "print(normal)"
      ],
      "metadata": {
        "colab": {
          "base_uri": "https://localhost:8080/"
        },
        "id": "U_ujFH9DtTIv",
        "outputId": "0b4da348-a7ec-4beb-f0e1-f25e0368ac1f"
      },
      "execution_count": null,
      "outputs": [
        {
          "output_type": "stream",
          "name": "stdout",
          "text": [
            "[[ 0.00266681 -0.00362139]\n",
            " [ 0.00262229 -0.00364505]\n",
            " [ 0.00474765 -0.00010784]\n",
            " ...\n",
            " [ 0.0034177  -0.00452149]\n",
            " [ 0.00347159 -0.00285691]\n",
            " [ 0.00318171 -0.00360426]]\n"
          ]
        }
      ]
    },
    {
      "cell_type": "code",
      "source": [
        "import pandas as pd\n",
        "import numpy as np\n",
        "from sklearn import preprocessing\n",
        "\n",
        "# Load the UFO dataset\n",
        "df = pd.read_csv(\"/root/.cache/kagglehub/datasets/NUFORC/ufo-sightings/versions/2/scrubbed.csv\", low_memory=False)\n",
        "\n",
        "# Remove any spaces from column names (e.g., 'longitude ' → 'longitude')\n",
        "df.columns = df.columns.str.strip()\n",
        "\n",
        "# Select only the numeric columns we want to scale (latitude and longitude)\n",
        "df_numeric = df[['latitude', 'longitude']].copy()\n",
        "\n",
        "# Convert both columns to numeric values (replace invalid strings with NaN)\n",
        "df_numeric['latitude'] = pd.to_numeric(df_numeric['latitude'], errors='coerce')\n",
        "df_numeric['longitude'] = pd.to_numeric(df_numeric['longitude'], errors='coerce')\n",
        "\n",
        "# Drop any rows that contain NaN values\n",
        "df_numeric = df_numeric.dropna()\n",
        "\n",
        "# Initialize the MinMaxScaler from sklearn\n",
        "scaler = preprocessing.MinMaxScaler()\n",
        "\n",
        "# Fit the scaler to the data and transform it to range (0, 1)\n",
        "scaled = scaler.fit_transform(df_numeric)\n",
        "\n",
        "# Print the scaled result (as a NumPy array)\n",
        "print(scaled)\n"
      ],
      "metadata": {
        "colab": {
          "base_uri": "https://localhost:8080/"
        },
        "id": "xArRGXP1xluh",
        "outputId": "e3debb1f-07f7-4140-a568-c6a88ac20dbc"
      },
      "execution_count": null,
      "outputs": [
        {
          "output_type": "stream",
          "name": "stdout",
          "text": [
            "[[0.72476095 0.22167546]\n",
            " [0.72155423 0.21987323]\n",
            " [0.87464866 0.4892746 ]\n",
            " ...\n",
            " [0.77884952 0.15312199]\n",
            " [0.78273148 0.27990006]\n",
            " [0.7618503  0.22298025]]\n"
          ]
        }
      ]
    },
    {
      "cell_type": "code",
      "source": [
        "import pandas as pd\n",
        "import numpy as np\n",
        "from sklearn import preprocessing\n",
        "df = pd.read_csv(\"/root/.cache/kagglehub/datasets/NUFORC/ufo-sightings/versions/2/scrubbed.csv\", low_memory=False)\n",
        "\n",
        "# удаляем пробелы из названий столбцов\n",
        "df.columns = df.columns.str.strip()\n",
        "\n",
        "# выбираем и очищаем числовые столбцы\n",
        "df_numeric = df[['latitude', 'longitude']].copy()\n",
        "df_numeric['latitude'] = pd.to_numeric(df_numeric['latitude'], errors='coerce')\n",
        "df_numeric['longitude'] = pd.to_numeric(df_numeric['longitude'], errors='coerce')\n",
        "df_numeric = df_numeric.dropna()\n",
        "\n",
        "# инициализируем MinMaxScaler\n",
        "# масштабируем в диапазоне (0,3)\n",
        "scaler = preprocessing.MinMaxScaler(feature_range=(0, 3))\n",
        "# применяем масштабирование\n",
        "scaled = scaler.fit_transform(df_numeric)\n",
        "# преобразовываем результат обратно в DataFrame\n",
        "# с именами столбцов\n",
        "scaled_df = pd.DataFrame(scaled, columns=df_numeric.columns)\n",
        "# выводим первые 5 строк\n",
        "print(scaled_df.head())"
      ],
      "metadata": {
        "colab": {
          "base_uri": "https://localhost:8080/"
        },
        "id": "5K2MsgCvyWKC",
        "outputId": "b1d8f897-3132-46f1-d7b5-0fdcf9290901"
      },
      "execution_count": null,
      "outputs": [
        {
          "output_type": "stream",
          "name": "stdout",
          "text": [
            "   latitude  longitude\n",
            "0  2.174283   0.665026\n",
            "1  2.164663   0.659620\n",
            "2  2.623946   1.467824\n",
            "3  2.156835   0.675969\n",
            "4  2.011037   0.159288\n"
          ]
        }
      ]
    },
    {
      "cell_type": "code",
      "source": [
        "import pandas as pd\n",
        "import numpy as np\n",
        "from sklearn import preprocessing\n",
        "\n",
        "# загружаем, очищаем\n",
        "df = pd.read_csv(\"/root/.cache/kagglehub/datasets/NUFORC/ufo-sightings/versions/2/scrubbed.csv\", low_memory=False)\n",
        "df.columns = df.columns.str.strip()\n",
        "selected_columns = ['latitude', 'longitude']\n",
        "df_numeric = df[selected_columns].copy()\n",
        "df_numeric['latitude'] = pd.to_numeric(df_numeric['latitude'], errors='coerce')\n",
        "df_numeric['longitude'] = pd.to_numeric(df_numeric['longitude'], errors='coerce')\n",
        "df_numeric = df_numeric.dropna()\n",
        "\n",
        "# извлекаем значения для масштабирования\n",
        "array = df_numeric.values\n",
        "\n",
        "# инициализируем и масштабируем\n",
        "scaled_array = preprocessing.MaxAbsScaler().fit_transform(array)\n",
        "\n",
        "# возвращаем в датафрейм\n",
        "scaled_df = pd.DataFrame(scaled_array, columns=selected_columns)\n",
        "\n",
        "# выводим\n",
        "print(scaled_df.head())\n"
      ],
      "metadata": {
        "colab": {
          "base_uri": "https://localhost:8080/"
        },
        "id": "gQoxLX5p8wJ3",
        "outputId": "4d754028-94a6-4ae6-c322-5bd9e602e482"
      },
      "execution_count": null,
      "outputs": [
        {
          "output_type": "stream",
          "name": "stdout",
          "text": [
            "   latitude  longitude\n",
            "0  0.360633  -0.548868\n",
            "1  0.354613  -0.552455\n",
            "2  0.642026  -0.016345\n",
            "3  0.349715  -0.541610\n",
            "4  0.258476  -0.884342\n"
          ]
        }
      ]
    },
    {
      "cell_type": "code",
      "source": [
        "import pandas as pd\n",
        "import numpy as np\n",
        "from sklearn import preprocessing\n",
        "\n",
        "# загружаем/очищаем\n",
        "df = pd.read_csv(\"/root/.cache/kagglehub/datasets/NUFORC/ufo-sightings/versions/2/scrubbed.csv\", low_memory=False)\n",
        "df.columns = df.columns.str.strip()\n",
        "selected_columns = ['latitude', 'longitude']\n",
        "df_numeric = df[selected_columns].copy()\n",
        "df_numeric['latitude'] = pd.to_numeric(df_numeric['latitude'], errors='coerce')\n",
        "df_numeric['longitude'] = pd.to_numeric(df_numeric['longitude'], errors='coerce')\n",
        "df_numeric = df_numeric.dropna()\n",
        "\n",
        "# извлекаем значения\n",
        "array = df_numeric.values\n",
        "# центрирует данные, используя медиану\n",
        "# масштабируем их\n",
        "# используя межквартильную амплитуду (IQR)\n",
        "robust_scaled = preprocessing.RobustScaler().fit_transform(array)\n",
        "# ремасштабируем с [-1, 1] к [25, 75]\n",
        "scaled_to_range = 25 + ((robust_scaled - robust_scaled.min()) / (robust_scaled.max() - robust_scaled.min())) * (75 - 25)\n",
        "# конвертируем обратно в датафрейм\n",
        "final_df = pd.DataFrame(scaled_to_range, columns=selected_columns)\n",
        "# выводим\n",
        "print(final_df.head())\n"
      ],
      "metadata": {
        "colab": {
          "base_uri": "https://localhost:8080/"
        },
        "id": "C6kLkxGkBoLh",
        "outputId": "5ec5bd6f-b7a2-4844-ef69-a12fddb17374"
      },
      "execution_count": null,
      "outputs": [
        {
          "output_type": "stream",
          "name": "stdout",
          "text": [
            "    latitude  longitude\n",
            "0  54.445158  56.252691\n",
            "1  54.314877  56.209281\n",
            "2  60.534707  62.698285\n",
            "3  54.208877  56.340551\n",
            "4  52.234404  52.192164\n"
          ]
        }
      ]
    },
    {
      "cell_type": "code",
      "source": [
        "import pandas as pd\n",
        "import numpy as np\n",
        "from sklearn import preprocessing\n",
        "\n",
        "# загружаем/очищаем\n",
        "df = pd.read_csv(\"/root/.cache/kagglehub/datasets/NUFORC/ufo-sightings/versions/2/scrubbed.csv\", low_memory=False)\n",
        "df.columns = df.columns.str.strip()\n",
        "selected_columns = ['latitude', 'longitude']\n",
        "df_numeric = df[selected_columns].copy()\n",
        "df_numeric['latitude'] = pd.to_numeric(df_numeric['latitude'], errors='coerce')\n",
        "df_numeric['longitude'] = pd.to_numeric(df_numeric['longitude'], errors='coerce')\n",
        "df_numeric = df_numeric.dropna()\n",
        "\n",
        "# извлекаем значения\n",
        "array = df_numeric.values\n",
        "\n",
        "# инициализируем QuantileTransformer\n",
        "# закрепляем случайности\n",
        "# в фиксированном шаблоне\n",
        "quantile_transformer = preprocessing.QuantileTransformer(output_distribution='uniform', random_state=42)\n",
        "\n",
        "# равномерно распределяем\n",
        "uniform_scaled = quantile_transformer.fit_transform(array)\n",
        "\n",
        "# преобразуем в датафрейм\n",
        "uniform_df = pd.DataFrame(uniform_scaled, columns=selected_columns)\n",
        "# выводим\n",
        "print(uniform_df.head())"
      ],
      "metadata": {
        "colab": {
          "base_uri": "https://localhost:8080/"
        },
        "id": "Vlbk4BJkKkXq",
        "outputId": "35e3dad9-4493-4383-9ebb-d78460b8ba7f"
      },
      "execution_count": 21,
      "outputs": [
        {
          "output_type": "stream",
          "name": "stdout",
          "text": [
            "   latitude  longitude\n",
            "0  0.084943   0.336769\n",
            "1  0.072930   0.330971\n",
            "2  0.978209   0.946057\n",
            "3  0.069808   0.364807\n",
            "4  0.022976   0.002049\n"
          ]
        }
      ]
    }
  ]
}